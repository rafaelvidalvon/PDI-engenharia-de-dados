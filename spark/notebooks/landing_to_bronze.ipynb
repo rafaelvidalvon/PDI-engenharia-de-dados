{
 "cells": [
  {
   "cell_type": "code",
   "execution_count": null,
   "id": "a7950e79-eb3f-4a8f-a13b-795b009820c4",
   "metadata": {
    "editable": true,
    "slideshow": {
     "slide_type": ""
    },
    "tags": []
   },
   "outputs": [],
   "source": [
    "from pyspark.sql import SparkSession\n",
    "from pyspark.sql.functions import col, to_date, to_timestamp, hour, minute, year, month, day\n",
    "from pyspark.sql.types import StringType, DoubleType, IntegerType, DateType, TimestampType"
   ]
  },
  {
   "cell_type": "code",
   "execution_count": null,
   "id": "f66c11f4-c2e1-4dba-9847-ff51612b14d4",
   "metadata": {},
   "outputs": [],
   "source": [
    "spark = SparkSession.builder.master(\"local[*]\") \\\n",
    "    .config(\"spark.executor.instances\", \"5\") \\\n",
    "    .config(\"spark.sql.legacy.timeParserPolicy\", \"LEGACY\").getOrCreate()"
   ]
  },
  {
   "cell_type": "code",
   "execution_count": null,
   "id": "d2d00053-b6e5-4594-9402-f62baae6b8c8",
   "metadata": {},
   "outputs": [],
   "source": [
    "df = spark.read.option(\"Header\", True).csv(\"spark-warehouse/landing/supermarket_sales.csv\")"
   ]
  },
  {
   "cell_type": "code",
   "execution_count": null,
   "id": "3e5d8ea5-1a0b-4791-8106-15cb4614f07c",
   "metadata": {},
   "outputs": [],
   "source": [
    "df.columns"
   ]
  },
  {
   "cell_type": "code",
   "execution_count": null,
   "id": "b81bdfee-303a-4683-9f98-56a165c6bdea",
   "metadata": {},
   "outputs": [],
   "source": [
    "df.printSchema()"
   ]
  },
  {
   "cell_type": "code",
   "execution_count": null,
   "id": "9fe30eef-3ff3-452b-942b-71cc765f6f50",
   "metadata": {},
   "outputs": [],
   "source": [
    "df.show(1)"
   ]
  },
  {
   "cell_type": "code",
   "execution_count": null,
   "id": "e75451cd-774b-4175-88d4-88113f3530e8",
   "metadata": {},
   "outputs": [],
   "source": [
    "column_rename_and_cast = {\n",
    "    'Invoice ID': ('invoice_id', StringType()),\n",
    "    'Branch': ('branch', StringType()),\n",
    "    'City': ('city', StringType()),\n",
    "    'Customer type': ('customer_type', StringType()),\n",
    "    'Gender': ('gender', StringType()),\n",
    "    'Product line': ('product_line', StringType()),\n",
    "    'Unit price': ('unit_price', DoubleType()),\n",
    "    'Quantity': ('quantity', IntegerType()),\n",
    "    'Tax 5%': ('tax_5_percent', DoubleType()),\n",
    "    'Total': ('total', DoubleType()),\n",
    "    'Date': ('date', StringType()), # Tratar data direto pode levar a problemas, melhor usar funções auxiliares\n",
    "    'Time': ('time', StringType()), # Tratar timetamp direto pode levar a problemas, melhor usar funções auxiliares\n",
    "    'Payment': ('payment', StringType()),\n",
    "    'cogs': ('cogs', DoubleType()),\n",
    "    'gross margin percentage': ('gross_margin_percentage', DoubleType()),\n",
    "    'gross income': ('gross_income', DoubleType()),\n",
    "    'Rating': ('rating', DoubleType())\n",
    "}"
   ]
  },
  {
   "cell_type": "code",
   "execution_count": null,
   "id": "64f64e49-a968-4116-aa5b-89ff36c62998",
   "metadata": {},
   "outputs": [],
   "source": [
    "for original_name, (new_name, new_type) in column_rename_and_cast.items():\n",
    "    df = df.withColumnRenamed(original_name, new_name) \\\n",
    "           .withColumn(new_name, col(new_name).cast(new_type))"
   ]
  },
  {
   "cell_type": "code",
   "execution_count": null,
   "id": "9b2974b3-b52b-4c08-9e08-b509fc9201d7",
   "metadata": {},
   "outputs": [],
   "source": [
    "df.printSchema()"
   ]
  },
  {
   "cell_type": "code",
   "execution_count": null,
   "id": "8929c9d5-8536-4c76-9c88-0dee6acf7bb1",
   "metadata": {},
   "outputs": [],
   "source": [
    "df.explain()"
   ]
  },
  {
   "cell_type": "code",
   "execution_count": null,
   "id": "e68943ff-6268-45a8-bc0c-1ae2a2c19239",
   "metadata": {},
   "outputs": [],
   "source": [
    "df.show()"
   ]
  },
  {
   "cell_type": "code",
   "execution_count": null,
   "id": "3dc28c70-638f-4a76-8473-dd9086e74d49",
   "metadata": {},
   "outputs": [],
   "source": [
    "df = df.withColumn(\"year\", year(to_date(col(\"date\"), 'MM/dd/yyyy'))) \\\n",
    "        .withColumn(\"month\", month(to_date(col(\"date\"), 'MM/dd/yyyy'))) \\\n",
    "        .withColumn(\"day\", day(to_date(col(\"date\"), 'MM/dd/yyyy'))) \\\n",
    "        .withColumn(\"hour\", hour(to_timestamp(col(\"time\"), 'HH:mm'))) \\\n",
    "        .withColumn(\"minute\", minute(to_timestamp(col(\"time\"), 'HH:mm'))) \\\n",
    "        .drop(col(\"date\")) \\\n",
    "        .drop(col(\"time\"))"
   ]
  },
  {
   "cell_type": "code",
   "execution_count": null,
   "id": "d5228c19-ff7c-4e17-b2aa-27feb3d8d978",
   "metadata": {},
   "outputs": [],
   "source": [
    "df.printSchema()"
   ]
  },
  {
   "cell_type": "code",
   "execution_count": null,
   "id": "e5a6c1fe-cf41-4dad-ac2b-461ec606bbd4",
   "metadata": {},
   "outputs": [],
   "source": [
    "df.show()"
   ]
  },
  {
   "cell_type": "code",
   "execution_count": null,
   "id": "be2be709-2c06-467b-8819-58b4146711f6",
   "metadata": {},
   "outputs": [],
   "source": [
    "df.write.saveAsTable(\"supermarket_sales_bronze\", format=\"parquet\", mode=\"overwrite\", partitionBy=[\"year\", \"month\", \"day\", \"hour\", \"minute\"], path=\"bronze/supermarket_sales\")"
   ]
  },
  {
   "cell_type": "code",
   "execution_count": null,
   "id": "d7dcceb1-4da4-4cec-a771-0ee901a7df5a",
   "metadata": {},
   "outputs": [],
   "source": []
  }
 ],
 "metadata": {
  "kernelspec": {
   "display_name": "Python 3 (ipykernel)",
   "language": "python",
   "name": "python3"
  },
  "language_info": {
   "codemirror_mode": {
    "name": "ipython",
    "version": 3
   },
   "file_extension": ".py",
   "mimetype": "text/x-python",
   "name": "python",
   "nbconvert_exporter": "python",
   "pygments_lexer": "ipython3",
   "version": "3.11.6"
  }
 },
 "nbformat": 4,
 "nbformat_minor": 5
}
