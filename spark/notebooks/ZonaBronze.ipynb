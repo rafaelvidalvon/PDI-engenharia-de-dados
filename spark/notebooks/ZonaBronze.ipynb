{
 "cells": [
  {
   "cell_type": "code",
   "execution_count": 5,
   "id": "e93b1ebb-d6cd-407a-ae14-26037c3a3926",
   "metadata": {},
   "outputs": [],
   "source": [
    "from pyspark.sql import SparkSession\n",
    "from pyspark.sql.functions import col, to_date, to_timestamp, hour, minute, year, month, day\n",
    "from pyspark.sql.types import StringType, DoubleType, IntegerType, DateType, TimestampType"
   ]
  },
  {
   "cell_type": "code",
   "execution_count": 6,
   "id": "7aa927c6-d8fd-47fd-9ebb-755a41861c40",
   "metadata": {
    "editable": true,
    "slideshow": {
     "slide_type": ""
    },
    "tags": []
   },
   "outputs": [],
   "source": [
    "spark = SparkSession.builder.master(\"local[*]\") \\\n",
    "    .config(\"spark.executor.instances\", \"5\") \\\n",
    "    .config(\"spark.sql.legacy.timeParserPolicy\", \"LEGACY\").getOrCreate()"
   ]
  },
  {
   "cell_type": "code",
   "execution_count": 7,
   "id": "36975157-bcf8-47e5-84bf-e4c64c322b36",
   "metadata": {},
   "outputs": [],
   "source": [
    "df = spark.read.option(\"Header\", True).csv(\"spark-warehouse/landing/supermarket_sales.csv\")"
   ]
  },
  {
   "cell_type": "code",
   "execution_count": 9,
   "id": "1271d60f-1f17-4141-8a39-f4b928331121",
   "metadata": {
    "editable": true,
    "slideshow": {
     "slide_type": ""
    },
    "tags": []
   },
   "outputs": [
    {
     "data": {
      "text/plain": [
       "['Invoice ID',\n",
       " 'Branch',\n",
       " 'City',\n",
       " 'Customer type',\n",
       " 'Gender',\n",
       " 'Product line',\n",
       " 'Unit price',\n",
       " 'Quantity',\n",
       " 'Tax 5%',\n",
       " 'Total',\n",
       " 'Date',\n",
       " 'Time',\n",
       " 'Payment',\n",
       " 'cogs',\n",
       " 'gross margin percentage',\n",
       " 'gross income',\n",
       " 'Rating']"
      ]
     },
     "execution_count": 9,
     "metadata": {},
     "output_type": "execute_result"
    }
   ],
   "source": [
    "\n",
    "df.columns\n"
   ]
  },
  {
   "cell_type": "code",
   "execution_count": 11,
   "id": "fb5ac467-95ab-4d7b-81d7-53501b54cc30",
   "metadata": {},
   "outputs": [
    {
     "name": "stdout",
     "output_type": "stream",
     "text": [
      "root\n",
      " |-- Invoice ID: string (nullable = true)\n",
      " |-- Branch: string (nullable = true)\n",
      " |-- City: string (nullable = true)\n",
      " |-- Customer type: string (nullable = true)\n",
      " |-- Gender: string (nullable = true)\n",
      " |-- Product line: string (nullable = true)\n",
      " |-- Unit price: string (nullable = true)\n",
      " |-- Quantity: string (nullable = true)\n",
      " |-- Tax 5%: string (nullable = true)\n",
      " |-- Total: string (nullable = true)\n",
      " |-- Date: string (nullable = true)\n",
      " |-- Time: string (nullable = true)\n",
      " |-- Payment: string (nullable = true)\n",
      " |-- cogs: string (nullable = true)\n",
      " |-- gross margin percentage: string (nullable = true)\n",
      " |-- gross income: string (nullable = true)\n",
      " |-- Rating: string (nullable = true)\n",
      "\n"
     ]
    }
   ],
   "source": [
    "\n",
    "df.printSchema()"
   ]
  },
  {
   "cell_type": "code",
   "execution_count": 12,
   "id": "90149f6b-2ff8-4eb9-b8c9-0a8cb918d0d8",
   "metadata": {},
   "outputs": [
    {
     "name": "stdout",
     "output_type": "stream",
     "text": [
      "+-----------+------+------+-------------+------+-----------------+----------+--------+-------+--------+--------+-----+-------+------+-----------------------+------------+------+\n",
      "| Invoice ID|Branch|  City|Customer type|Gender|     Product line|Unit price|Quantity| Tax 5%|   Total|    Date| Time|Payment|  cogs|gross margin percentage|gross income|Rating|\n",
      "+-----------+------+------+-------------+------+-----------------+----------+--------+-------+--------+--------+-----+-------+------+-----------------------+------------+------+\n",
      "|750-67-8428|     A|Yangon|       Member|Female|Health and beauty|     74.69|       7|26.1415|548.9715|1/5/2019|13:08|Ewallet|522.83|            4.761904762|     26.1415|   9.1|\n",
      "+-----------+------+------+-------------+------+-----------------+----------+--------+-------+--------+--------+-----+-------+------+-----------------------+------------+------+\n",
      "only showing top 1 row\n",
      "\n"
     ]
    }
   ],
   "source": [
    "df.show(1)"
   ]
  },
  {
   "cell_type": "code",
   "execution_count": null,
   "id": "6dbbb07e-ba4b-4603-831a-e0418d6cf65b",
   "metadata": {},
   "outputs": [],
   "source": [
    "\n",
    "column_rename_and_cast = {\n",
    "    'Invoice ID': ('invoice_id', StringType()),\n",
    "    'Branch': ('branch', StringType()),\n",
    "    'City': ('city', StringType()),\n",
    "    'Customer type': ('customer_type', StringType()),\n",
    "    'Gender': ('gender', StringType()),\n",
    "    'Product line': ('product_line', StringType()),\n",
    "    'Unit price': ('unit_price', DoubleType()),\n",
    "    'Quantity': ('quantity', IntegerType()),\n",
    "    'Tax 5%': ('tax_5_percent', DoubleType()),\n",
    "    'Total': ('total', DoubleType()),\n",
    "    'Date': ('date', StringType()), # Tratar data direto pode levar a problemas, melhor usar funções auxiliares\n",
    "    'Time': ('time', StringType()), # Tratar timetamp direto pode levar a problemas, melhor usar funções auxiliares\n",
    "    'Payment': ('payment', StringType()),\n",
    "    'cogs': ('cogs', DoubleType()),\n",
    "    'gross margin percentage': ('gross_margin_percentage', DoubleType()),\n",
    "    'gross income': ('gross_income', DoubleType()),\n",
    "    'Rating': ('rating', DoubleType())\n",
    "}\n"
   ]
  },
  {
   "cell_type": "code",
   "execution_count": 13,
   "id": "acef488a-baf8-4a6c-b92a-b486065b6a1b",
   "metadata": {},
   "outputs": [],
   "source": [
    "column_rename_and_cast = {\n",
    "    'Invoice ID': ('invoice_id', StringType()),\n",
    "    'Branch': ('branch', StringType()),\n",
    "    'City': ('city', StringType()),\n",
    "    'Customer type': ('customer_type', StringType()),\n",
    "    'Gender': ('gender', StringType()),\n",
    "    'Product line': ('product_line', StringType()),\n",
    "    'Unit price': ('unit_price', DoubleType()),\n",
    "    'Quantity': ('quantity', IntegerType()),\n",
    "    'Tax 5%': ('tax_5_percent', DoubleType()),\n",
    "    'Total': ('total', DoubleType()),\n",
    "    'Date': ('date', StringType()), # Tratar data direto pode levar a problemas, melhor usar funções auxiliares\n",
    "    'Time': ('time', StringType()), # Tratar timetamp direto pode levar a problemas, melhor usar funções auxiliares\n",
    "    'Payment': ('payment', StringType()),\n",
    "    'cogs': ('cogs', DoubleType()),\n",
    "    'gross margin percentage': ('gross_margin_percentage', DoubleType()),\n",
    "    'gross income': ('gross_income', DoubleType()),\n",
    "    'Rating': ('rating', DoubleType())\n",
    "}"
   ]
  },
  {
   "cell_type": "code",
   "execution_count": 14,
   "id": "fcaf7360-4ea6-421a-80ac-d95154e27521",
   "metadata": {},
   "outputs": [],
   "source": [
    "\n",
    "for original_name, (new_name, new_type) in column_rename_and_cast.items():\n",
    "    df = df.withColumnRenamed(original_name, new_name) \\\n",
    "           .withColumn(new_name, col(new_name).cast(new_type))"
   ]
  },
  {
   "cell_type": "code",
   "execution_count": 15,
   "id": "887ad941-ac4e-4769-ad6d-960c6c7e21d4",
   "metadata": {},
   "outputs": [
    {
     "name": "stdout",
     "output_type": "stream",
     "text": [
      "root\n",
      " |-- invoice_id: string (nullable = true)\n",
      " |-- branch: string (nullable = true)\n",
      " |-- city: string (nullable = true)\n",
      " |-- customer_type: string (nullable = true)\n",
      " |-- gender: string (nullable = true)\n",
      " |-- product_line: string (nullable = true)\n",
      " |-- unit_price: double (nullable = true)\n",
      " |-- quantity: integer (nullable = true)\n",
      " |-- tax_5_percent: double (nullable = true)\n",
      " |-- total: double (nullable = true)\n",
      " |-- date: string (nullable = true)\n",
      " |-- time: string (nullable = true)\n",
      " |-- payment: string (nullable = true)\n",
      " |-- cogs: double (nullable = true)\n",
      " |-- gross_margin_percentage: double (nullable = true)\n",
      " |-- gross_income: double (nullable = true)\n",
      " |-- rating: double (nullable = true)\n",
      "\n"
     ]
    }
   ],
   "source": [
    "df.printSchema()"
   ]
  },
  {
   "cell_type": "code",
   "execution_count": 16,
   "id": "302baddd-5139-4554-bfdc-6e208da1cc46",
   "metadata": {},
   "outputs": [
    {
     "name": "stdout",
     "output_type": "stream",
     "text": [
      "== Physical Plan ==\n",
      "*(1) Project [Invoice ID#1174 AS invoice_id#1313, Branch#1175 AS branch#1349, City#1176 AS city#1385, Customer type#1177 AS customer_type#1421, Gender#1178 AS gender#1457, Product line#1179 AS product_line#1493, cast(Unit price#1180 as double) AS unit_price#1529, cast(Quantity#1181 as int) AS quantity#1565, cast(Tax 5%#1182 as double) AS tax_5_percent#1601, cast(Total#1183 as double) AS total#1637, Date#1184 AS date#1673, Time#1185 AS time#1709, Payment#1186 AS payment#1745, cast(cogs#1187 as double) AS cogs#1781, cast(gross margin percentage#1188 as double) AS gross_margin_percentage#1817, cast(gross income#1189 as double) AS gross_income#1853, cast(Rating#1190 as double) AS rating#1889]\n",
      "+- FileScan csv [Invoice ID#1174,Branch#1175,City#1176,Customer type#1177,Gender#1178,Product line#1179,Unit price#1180,Quantity#1181,Tax 5%#1182,Total#1183,Date#1184,Time#1185,Payment#1186,cogs#1187,gross margin percentage#1188,gross income#1189,Rating#1190] Batched: false, DataFilters: [], Format: CSV, Location: InMemoryFileIndex(1 paths)[file:/home/jovyan/notebooks/spark-warehouse/landing/supermarket_sales...., PartitionFilters: [], PushedFilters: [], ReadSchema: struct<Invoice ID:string,Branch:string,City:string,Customer type:string,Gender:string,Product lin...\n",
      "\n",
      "\n"
     ]
    }
   ],
   "source": [
    "\n",
    "df.explain()"
   ]
  },
  {
   "cell_type": "code",
   "execution_count": 17,
   "id": "187f99b5-b738-46ec-b43b-0956b626295f",
   "metadata": {},
   "outputs": [
    {
     "name": "stdout",
     "output_type": "stream",
     "text": [
      "+-----------+------+---------+-------------+------+--------------------+----------+--------+-------------+--------+---------+-----+-----------+------+-----------------------+------------+------+\n",
      "| invoice_id|branch|     city|customer_type|gender|        product_line|unit_price|quantity|tax_5_percent|   total|     date| time|    payment|  cogs|gross_margin_percentage|gross_income|rating|\n",
      "+-----------+------+---------+-------------+------+--------------------+----------+--------+-------------+--------+---------+-----+-----------+------+-----------------------+------------+------+\n",
      "|750-67-8428|     A|   Yangon|       Member|Female|   Health and beauty|     74.69|       7|      26.1415|548.9715| 1/5/2019|13:08|    Ewallet|522.83|            4.761904762|     26.1415|   9.1|\n",
      "|226-31-3081|     C|Naypyitaw|       Normal|Female|Electronic access...|     15.28|       5|         3.82|   80.22| 3/8/2019|10:29|       Cash|  76.4|            4.761904762|        3.82|   9.6|\n",
      "|631-41-3108|     A|   Yangon|       Normal|  Male|  Home and lifestyle|     46.33|       7|      16.2155|340.5255| 3/3/2019|13:23|Credit card|324.31|            4.761904762|     16.2155|   7.4|\n",
      "|123-19-1176|     A|   Yangon|       Member|  Male|   Health and beauty|     58.22|       8|       23.288| 489.048|1/27/2019|20:33|    Ewallet|465.76|            4.761904762|      23.288|   8.4|\n",
      "|373-73-7910|     A|   Yangon|       Normal|  Male|   Sports and travel|     86.31|       7|      30.2085|634.3785| 2/8/2019|10:37|    Ewallet|604.17|            4.761904762|     30.2085|   5.3|\n",
      "|699-14-3026|     C|Naypyitaw|       Normal|  Male|Electronic access...|     85.39|       7|      29.8865|627.6165|3/25/2019|18:30|    Ewallet|597.73|            4.761904762|     29.8865|   4.1|\n",
      "|355-53-5943|     A|   Yangon|       Member|Female|Electronic access...|     68.84|       6|       20.652| 433.692|2/25/2019|14:36|    Ewallet|413.04|            4.761904762|      20.652|   5.8|\n",
      "|315-22-5665|     C|Naypyitaw|       Normal|Female|  Home and lifestyle|     73.56|      10|        36.78|  772.38|2/24/2019|11:38|    Ewallet| 735.6|            4.761904762|       36.78|   8.0|\n",
      "|665-32-9167|     A|   Yangon|       Member|Female|   Health and beauty|     36.26|       2|        3.626|  76.146|1/10/2019|17:15|Credit card| 72.52|            4.761904762|       3.626|   7.2|\n",
      "|692-92-5582|     B| Mandalay|       Member|Female|  Food and beverages|     54.84|       3|        8.226| 172.746|2/20/2019|13:27|Credit card|164.52|            4.761904762|       8.226|   5.9|\n",
      "|351-62-0822|     B| Mandalay|       Member|Female| Fashion accessories|     14.48|       4|        2.896|  60.816| 2/6/2019|18:07|    Ewallet| 57.92|            4.761904762|       2.896|   4.5|\n",
      "|529-56-3974|     B| Mandalay|       Member|  Male|Electronic access...|     25.51|       4|        5.102| 107.142| 3/9/2019|17:03|       Cash|102.04|            4.761904762|       5.102|   6.8|\n",
      "|365-64-0515|     A|   Yangon|       Normal|Female|Electronic access...|     46.95|       5|      11.7375|246.4875|2/12/2019|10:25|    Ewallet|234.75|            4.761904762|     11.7375|   7.1|\n",
      "|252-56-2699|     A|   Yangon|       Normal|  Male|  Food and beverages|     43.19|      10|       21.595| 453.495| 2/7/2019|16:48|    Ewallet| 431.9|            4.761904762|      21.595|   8.2|\n",
      "|829-34-3910|     A|   Yangon|       Normal|Female|   Health and beauty|     71.38|      10|        35.69|  749.49|3/29/2019|19:21|       Cash| 713.8|            4.761904762|       35.69|   5.7|\n",
      "|299-46-1805|     B| Mandalay|       Member|Female|   Sports and travel|     93.72|       6|       28.116| 590.436|1/15/2019|16:19|       Cash|562.32|            4.761904762|      28.116|   4.5|\n",
      "|656-95-9349|     A|   Yangon|       Member|Female|   Health and beauty|     68.93|       7|      24.1255|506.6355|3/11/2019|11:03|Credit card|482.51|            4.761904762|     24.1255|   4.6|\n",
      "|765-26-6951|     A|   Yangon|       Normal|  Male|   Sports and travel|     72.61|       6|       21.783| 457.443| 1/1/2019|10:39|Credit card|435.66|            4.761904762|      21.783|   6.9|\n",
      "|329-62-1586|     A|   Yangon|       Normal|  Male|  Food and beverages|     54.67|       3|       8.2005|172.2105|1/21/2019|18:00|Credit card|164.01|            4.761904762|      8.2005|   8.6|\n",
      "|319-50-3348|     B| Mandalay|       Normal|Female|  Home and lifestyle|      40.3|       2|         4.03|   84.63|3/11/2019|15:30|    Ewallet|  80.6|            4.761904762|        4.03|   4.4|\n",
      "+-----------+------+---------+-------------+------+--------------------+----------+--------+-------------+--------+---------+-----+-----------+------+-----------------------+------------+------+\n",
      "only showing top 20 rows\n",
      "\n"
     ]
    }
   ],
   "source": [
    "df.show()\n"
   ]
  },
  {
   "cell_type": "code",
   "execution_count": 18,
   "id": "2414350b-519c-4c2a-a347-45873c43706d",
   "metadata": {},
   "outputs": [],
   "source": [
    "df = df.withColumn(\"year\", year(to_date(col(\"date\"), 'MM/dd/yyyy'))) \\\n",
    "        .withColumn(\"month\", month(to_date(col(\"date\"), 'MM/dd/yyyy'))) \\\n",
    "        .withColumn(\"day\", day(to_date(col(\"date\"), 'MM/dd/yyyy'))) \\\n",
    "        .withColumn(\"hour\", hour(to_timestamp(col(\"time\"), 'HH:mm'))) \\\n",
    "        .withColumn(\"minute\", minute(to_timestamp(col(\"time\"), 'HH:mm'))) \\\n",
    "        .drop(col(\"date\")) \\\n",
    "        .drop(col(\"time\"))"
   ]
  },
  {
   "cell_type": "code",
   "execution_count": 19,
   "id": "b89c00cd-1032-4a14-8259-d37cfce1c1a5",
   "metadata": {},
   "outputs": [
    {
     "name": "stdout",
     "output_type": "stream",
     "text": [
      "root\n",
      " |-- invoice_id: string (nullable = true)\n",
      " |-- branch: string (nullable = true)\n",
      " |-- city: string (nullable = true)\n",
      " |-- customer_type: string (nullable = true)\n",
      " |-- gender: string (nullable = true)\n",
      " |-- product_line: string (nullable = true)\n",
      " |-- unit_price: double (nullable = true)\n",
      " |-- quantity: integer (nullable = true)\n",
      " |-- tax_5_percent: double (nullable = true)\n",
      " |-- total: double (nullable = true)\n",
      " |-- payment: string (nullable = true)\n",
      " |-- cogs: double (nullable = true)\n",
      " |-- gross_margin_percentage: double (nullable = true)\n",
      " |-- gross_income: double (nullable = true)\n",
      " |-- rating: double (nullable = true)\n",
      " |-- year: integer (nullable = true)\n",
      " |-- month: integer (nullable = true)\n",
      " |-- day: integer (nullable = true)\n",
      " |-- hour: integer (nullable = true)\n",
      " |-- minute: integer (nullable = true)\n",
      "\n"
     ]
    }
   ],
   "source": [
    "df.printSchema()"
   ]
  },
  {
   "cell_type": "code",
   "execution_count": 20,
   "id": "12392d28-bc05-4a7e-9fc6-59f4cd93f4c8",
   "metadata": {},
   "outputs": [
    {
     "name": "stdout",
     "output_type": "stream",
     "text": [
      "+-----------+------+---------+-------------+------+--------------------+----------+--------+-------------+--------+-----------+------+-----------------------+------------+------+----+-----+---+----+------+\n",
      "| invoice_id|branch|     city|customer_type|gender|        product_line|unit_price|quantity|tax_5_percent|   total|    payment|  cogs|gross_margin_percentage|gross_income|rating|year|month|day|hour|minute|\n",
      "+-----------+------+---------+-------------+------+--------------------+----------+--------+-------------+--------+-----------+------+-----------------------+------------+------+----+-----+---+----+------+\n",
      "|750-67-8428|     A|   Yangon|       Member|Female|   Health and beauty|     74.69|       7|      26.1415|548.9715|    Ewallet|522.83|            4.761904762|     26.1415|   9.1|2019|    1|  5|  13|     8|\n",
      "|226-31-3081|     C|Naypyitaw|       Normal|Female|Electronic access...|     15.28|       5|         3.82|   80.22|       Cash|  76.4|            4.761904762|        3.82|   9.6|2019|    3|  8|  10|    29|\n",
      "|631-41-3108|     A|   Yangon|       Normal|  Male|  Home and lifestyle|     46.33|       7|      16.2155|340.5255|Credit card|324.31|            4.761904762|     16.2155|   7.4|2019|    3|  3|  13|    23|\n",
      "|123-19-1176|     A|   Yangon|       Member|  Male|   Health and beauty|     58.22|       8|       23.288| 489.048|    Ewallet|465.76|            4.761904762|      23.288|   8.4|2019|    1| 27|  20|    33|\n",
      "|373-73-7910|     A|   Yangon|       Normal|  Male|   Sports and travel|     86.31|       7|      30.2085|634.3785|    Ewallet|604.17|            4.761904762|     30.2085|   5.3|2019|    2|  8|  10|    37|\n",
      "|699-14-3026|     C|Naypyitaw|       Normal|  Male|Electronic access...|     85.39|       7|      29.8865|627.6165|    Ewallet|597.73|            4.761904762|     29.8865|   4.1|2019|    3| 25|  18|    30|\n",
      "|355-53-5943|     A|   Yangon|       Member|Female|Electronic access...|     68.84|       6|       20.652| 433.692|    Ewallet|413.04|            4.761904762|      20.652|   5.8|2019|    2| 25|  14|    36|\n",
      "|315-22-5665|     C|Naypyitaw|       Normal|Female|  Home and lifestyle|     73.56|      10|        36.78|  772.38|    Ewallet| 735.6|            4.761904762|       36.78|   8.0|2019|    2| 24|  11|    38|\n",
      "|665-32-9167|     A|   Yangon|       Member|Female|   Health and beauty|     36.26|       2|        3.626|  76.146|Credit card| 72.52|            4.761904762|       3.626|   7.2|2019|    1| 10|  17|    15|\n",
      "|692-92-5582|     B| Mandalay|       Member|Female|  Food and beverages|     54.84|       3|        8.226| 172.746|Credit card|164.52|            4.761904762|       8.226|   5.9|2019|    2| 20|  13|    27|\n",
      "|351-62-0822|     B| Mandalay|       Member|Female| Fashion accessories|     14.48|       4|        2.896|  60.816|    Ewallet| 57.92|            4.761904762|       2.896|   4.5|2019|    2|  6|  18|     7|\n",
      "|529-56-3974|     B| Mandalay|       Member|  Male|Electronic access...|     25.51|       4|        5.102| 107.142|       Cash|102.04|            4.761904762|       5.102|   6.8|2019|    3|  9|  17|     3|\n",
      "|365-64-0515|     A|   Yangon|       Normal|Female|Electronic access...|     46.95|       5|      11.7375|246.4875|    Ewallet|234.75|            4.761904762|     11.7375|   7.1|2019|    2| 12|  10|    25|\n",
      "|252-56-2699|     A|   Yangon|       Normal|  Male|  Food and beverages|     43.19|      10|       21.595| 453.495|    Ewallet| 431.9|            4.761904762|      21.595|   8.2|2019|    2|  7|  16|    48|\n",
      "|829-34-3910|     A|   Yangon|       Normal|Female|   Health and beauty|     71.38|      10|        35.69|  749.49|       Cash| 713.8|            4.761904762|       35.69|   5.7|2019|    3| 29|  19|    21|\n",
      "|299-46-1805|     B| Mandalay|       Member|Female|   Sports and travel|     93.72|       6|       28.116| 590.436|       Cash|562.32|            4.761904762|      28.116|   4.5|2019|    1| 15|  16|    19|\n",
      "|656-95-9349|     A|   Yangon|       Member|Female|   Health and beauty|     68.93|       7|      24.1255|506.6355|Credit card|482.51|            4.761904762|     24.1255|   4.6|2019|    3| 11|  11|     3|\n",
      "|765-26-6951|     A|   Yangon|       Normal|  Male|   Sports and travel|     72.61|       6|       21.783| 457.443|Credit card|435.66|            4.761904762|      21.783|   6.9|2019|    1|  1|  10|    39|\n",
      "|329-62-1586|     A|   Yangon|       Normal|  Male|  Food and beverages|     54.67|       3|       8.2005|172.2105|Credit card|164.01|            4.761904762|      8.2005|   8.6|2019|    1| 21|  18|     0|\n",
      "|319-50-3348|     B| Mandalay|       Normal|Female|  Home and lifestyle|      40.3|       2|         4.03|   84.63|    Ewallet|  80.6|            4.761904762|        4.03|   4.4|2019|    3| 11|  15|    30|\n",
      "+-----------+------+---------+-------------+------+--------------------+----------+--------+-------------+--------+-----------+------+-----------------------+------------+------+----+-----+---+----+------+\n",
      "only showing top 20 rows\n",
      "\n"
     ]
    }
   ],
   "source": [
    "df.show()"
   ]
  },
  {
   "cell_type": "code",
   "execution_count": null,
   "id": "3d265fe6-9826-46c3-a883-146427f28cf3",
   "metadata": {},
   "outputs": [],
   "source": [
    "df.write.saveAsTable(\"supermarket_sales_bronze\", format=\"parquet\", mode=\"overwrite\", partitionBy=[\"year\", \"month\", \"day\", \"hour\", \"minute\"], path=\"bronze/supermarket_sales\")"
   ]
  }
 ],
 "metadata": {
  "kernelspec": {
   "display_name": "Python 3 (ipykernel)",
   "language": "python",
   "name": "python3"
  },
  "language_info": {
   "codemirror_mode": {
    "name": "ipython",
    "version": 3
   },
   "file_extension": ".py",
   "mimetype": "text/x-python",
   "name": "python",
   "nbconvert_exporter": "python",
   "pygments_lexer": "ipython3",
   "version": "3.11.6"
  }
 },
 "nbformat": 4,
 "nbformat_minor": 5
}
