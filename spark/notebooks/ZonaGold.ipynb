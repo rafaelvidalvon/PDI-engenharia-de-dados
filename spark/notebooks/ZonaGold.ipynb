{
 "cells": [
  {
   "cell_type": "code",
   "execution_count": 1,
   "id": "11fcb57e-2283-4d1f-bb39-95df4c76891e",
   "metadata": {},
   "outputs": [],
   "source": [
    "from pyspark.sql import SparkSession\n",
    "from pyspark.sql.functions import col, avg, sum\n",
    "from pyspark.sql.types import IntegerType"
   ]
  },
  {
   "cell_type": "code",
   "execution_count": 2,
   "id": "475c105e-1a2e-4c04-ac0c-75c8f283de1f",
   "metadata": {},
   "outputs": [],
   "source": [
    "spark = SparkSession.builder.master(\"local[*]\") \\\n",
    "    .config(\"spark.executor.instances\", \"5\") \\\n",
    "    .config(\"spark.sql.legacy.timeParserPolicy\", \"LEGACY\") \\\n",
    "    .getOrCreate()"
   ]
  },
  {
   "cell_type": "code",
   "execution_count": 10,
   "id": "c7249ba2-a83f-46ad-8136-e508f91eef5d",
   "metadata": {},
   "outputs": [],
   "source": [
    "dim_customer = spark.read.parquet(\"spark-warehouse/dim_customer\")\n",
    "dim_product = spark.read.parquet(\"spark-warehouse/dim_product\")\n",
    "fact_sales = spark.read.parquet(\"spark-warehouse/fact_sales\")"
   ]
  },
  {
   "cell_type": "code",
   "execution_count": 8,
   "id": "091ac487-669c-4265-b394-095f8607b810",
   "metadata": {},
   "outputs": [
    {
     "ename": "NameError",
     "evalue": "name 'fact_sales' is not defined",
     "output_type": "error",
     "traceback": [
      "\u001b[0;31m---------------------------------------------------------------------------\u001b[0m",
      "\u001b[0;31mNameError\u001b[0m                                 Traceback (most recent call last)",
      "Cell \u001b[0;32mIn[8], line 1\u001b[0m\n\u001b[0;32m----> 1\u001b[0m avg_sales_by_month_branch \u001b[38;5;241m=\u001b[39m \u001b[43mfact_sales\u001b[49m\u001b[38;5;241m.\u001b[39mgroupBy(\u001b[38;5;124m\"\u001b[39m\u001b[38;5;124myear\u001b[39m\u001b[38;5;124m\"\u001b[39m, \u001b[38;5;124m\"\u001b[39m\u001b[38;5;124mmonth\u001b[39m\u001b[38;5;124m\"\u001b[39m, \u001b[38;5;124m\"\u001b[39m\u001b[38;5;124mbranch\u001b[39m\u001b[38;5;124m\"\u001b[39m) \\\n\u001b[1;32m      2\u001b[0m                                       \u001b[38;5;241m.\u001b[39magg(avg(\u001b[38;5;124m\"\u001b[39m\u001b[38;5;124mtotal\u001b[39m\u001b[38;5;124m\"\u001b[39m)\u001b[38;5;241m.\u001b[39malias(\u001b[38;5;124m\"\u001b[39m\u001b[38;5;124mavg_total_sales\u001b[39m\u001b[38;5;124m\"\u001b[39m))\n",
      "\u001b[0;31mNameError\u001b[0m: name 'fact_sales' is not defined"
     ]
    }
   ],
   "source": [
    "avg_sales_by_month_branch = fact_sales.groupBy(\"year\", \"month\", \"branch\") \\\n",
    "                                      .agg(avg(\"total\").alias(\"avg_total_sales\"))"
   ]
  },
  {
   "cell_type": "code",
   "execution_count": 11,
   "id": "c52ec62c-6e12-45fe-be18-9c8ca6d9e6cd",
   "metadata": {},
   "outputs": [],
   "source": [
    "avg_sales_by_month_branch = fact_sales.groupBy(\"year\", \"month\", \"branch\") \\\n",
    "                                      .agg(avg(\"total\").alias(\"avg_total_sales\"))"
   ]
  },
  {
   "cell_type": "code",
   "execution_count": 12,
   "id": "cb1dd5e0-3b51-45d2-959f-bde6c33c447a",
   "metadata": {},
   "outputs": [
    {
     "name": "stdout",
     "output_type": "stream",
     "text": [
      "+----+-----+------+------------------+\n",
      "|year|month|branch|   avg_total_sales|\n",
      "+----+-----+------+------------------+\n",
      "|2019|    1|     A| 325.0514999999999|\n",
      "|2019|    2|     C|        329.349825|\n",
      "|2019|    1|     C|331.43181147540986|\n",
      "|2019|    3|     C|350.93436792452826|\n",
      "|2019|    1|     B|334.91944594594594|\n",
      "|2019|    3|     A|296.52851574803145|\n",
      "|2019|    2|     A|317.66085638297875|\n",
      "|2019|    2|     B|           315.819|\n",
      "|2019|    3|     B|      308.90484375|\n",
      "+----+-----+------+------------------+\n",
      "\n"
     ]
    }
   ],
   "source": [
    "avg_sales_by_month_branch.show()\n"
   ]
  },
  {
   "cell_type": "code",
   "execution_count": 14,
   "id": "002fcb50-cfbf-4376-a5b7-ec5b6a58e4dd",
   "metadata": {},
   "outputs": [],
   "source": [
    "avg_sales_by_month_branch.write.parquet(\"spark-warehouse/avg_sales_by_month_branch\")\n"
   ]
  },
  {
   "cell_type": "code",
   "execution_count": null,
   "id": "d28b747f-3e33-4f9d-87ff-b3ce53b11231",
   "metadata": {},
   "outputs": [],
   "source": []
  }
 ],
 "metadata": {
  "kernelspec": {
   "display_name": "Python 3 (ipykernel)",
   "language": "python",
   "name": "python3"
  },
  "language_info": {
   "codemirror_mode": {
    "name": "ipython",
    "version": 3
   },
   "file_extension": ".py",
   "mimetype": "text/x-python",
   "name": "python",
   "nbconvert_exporter": "python",
   "pygments_lexer": "ipython3",
   "version": "3.11.6"
  }
 },
 "nbformat": 4,
 "nbformat_minor": 5
}
