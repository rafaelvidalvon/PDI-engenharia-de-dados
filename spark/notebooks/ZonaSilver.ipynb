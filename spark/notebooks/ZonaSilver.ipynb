{
 "cells": [
  {
   "cell_type": "code",
   "execution_count": 14,
   "id": "adcbf9b0-ca2b-4ad1-8399-ea1e5aa3f442",
   "metadata": {
    "editable": true,
    "slideshow": {
     "slide_type": ""
    },
    "tags": []
   },
   "outputs": [],
   "source": [
    "from pyspark.sql import SparkSession\n",
    "from pyspark.sql.functions import col, to_date, to_timestamp, year, month, day, hour, minute\n",
    "from pyspark.sql.types import StringType, DoubleType, IntegerType\n",
    "from pyspark.sql.functions import col, monotonically_increasing_id"
   ]
  },
  {
   "cell_type": "code",
   "execution_count": 15,
   "id": "5702f895-f822-4881-a0cc-fa9e7fb140ad",
   "metadata": {},
   "outputs": [],
   "source": [
    "spark = SparkSession.builder.master(\"local[*]\") \\\n",
    "    .config(\"spark.executor.instances\", \"5\") \\\n",
    "    .config(\"spark.sql.legacy.timeParserPolicy\", \"LEGACY\").getOrCreate()"
   ]
  },
  {
   "cell_type": "code",
   "execution_count": 16,
   "id": "390cb40e-16ab-43bf-8437-f4ab4ddc2a81",
   "metadata": {
    "editable": true,
    "slideshow": {
     "slide_type": ""
    },
    "tags": []
   },
   "outputs": [],
   "source": [
    "df_bronze = spark.read.parquet(\"spark-warehouse/bronze/supermarket_sales\")\n"
   ]
  },
  {
   "cell_type": "code",
   "execution_count": 17,
   "id": "49a66ffd-bc11-4837-9fa3-bf21f3848fee",
   "metadata": {
    "scrolled": true
   },
   "outputs": [
    {
     "name": "stdout",
     "output_type": "stream",
     "text": [
      "+-----------+------+---------+-------------+------+-------------------+----------+--------+-------------+-------+-----------+-----+-----------------------+------------+------+----+-----+---+----+------+\n",
      "| invoice_id|branch|     city|customer_type|gender|       product_line|unit_price|quantity|tax_5_percent|  total|    payment| cogs|gross_margin_percentage|gross_income|rating|year|month|day|hour|minute|\n",
      "+-----------+------+---------+-------------+------+-------------------+----------+--------+-------------+-------+-----------+-----+-----------------------+------------+------+----+-----+---+----+------+\n",
      "|308-81-0538|     A|   Yangon|       Normal|Female|Fashion accessories|     73.05|       4|        14.61| 306.81|Credit card|292.2|            4.761904762|       14.61|   4.9|2019|    2| 25|  17|    16|\n",
      "|834-83-1826|     B| Mandalay|       Member|Female| Home and lifestyle|     82.04|       5|        20.51| 430.71|Credit card|410.2|            4.761904762|       20.51|   7.6|2019|    2| 25|  17|    16|\n",
      "|873-95-4984|     B| Mandalay|       Member|Female|  Health and beauty|      76.9|       7|       26.915|565.215|       Cash|538.3|            4.761904762|      26.915|   7.7|2019|    2| 15|  20|    21|\n",
      "|400-80-4065|     C|Naypyitaw|       Member|  Male|  Health and beauty|     68.55|       4|        13.71| 287.91|Credit card|274.2|            4.761904762|       13.71|   9.2|2019|    2| 15|  20|    21|\n",
      "|188-55-0967|     B| Mandalay|       Member|  Male|  Health and beauty|     66.47|      10|       33.235|697.935|Credit card|664.7|            4.761904762|      33.235|   5.0|2019|    1| 15|  15|     1|\n",
      "+-----------+------+---------+-------------+------+-------------------+----------+--------+-------------+-------+-----------+-----+-----------------------+------------+------+----+-----+---+----+------+\n",
      "only showing top 5 rows\n",
      "\n"
     ]
    }
   ],
   "source": [
    "df_bronze.show(5)"
   ]
  },
  {
   "cell_type": "code",
   "execution_count": null,
   "id": "636c740d-6f13-4b46-9ba6-9504dd299540",
   "metadata": {
    "editable": true,
    "slideshow": {
     "slide_type": ""
    },
    "tags": []
   },
   "outputs": [],
   "source": [
    "df_bronze.printSchema()\n",
    "df_bronze.show(5)"
   ]
  },
  {
   "cell_type": "code",
   "execution_count": 18,
   "id": "122d2d6d-1180-4608-a23a-7b279d7e89ba",
   "metadata": {},
   "outputs": [],
   "source": [
    "dim_customer = df_bronze.select(\"customer_type\", \"gender\").distinct()\n",
    "dim_customer = dim_customer.withColumn(\"customer_id\", monotonically_increasing_id())"
   ]
  },
  {
   "cell_type": "code",
   "execution_count": 19,
   "id": "00ed4a49-c12a-420c-92c5-76c49cfb7e93",
   "metadata": {},
   "outputs": [],
   "source": [
    "dim_product = df_bronze.select(\"product_line\").distinct()\n",
    "dim_product = dim_product.withColumn(\"product_id\", monotonically_increasing_id())"
   ]
  },
  {
   "cell_type": "code",
   "execution_count": 20,
   "id": "dafe5fdc-4e42-4709-98c7-fc8e15d0b58f",
   "metadata": {},
   "outputs": [],
   "source": [
    "fact_sales = df_bronze.join(dim_customer, on=[\"customer_type\", \"gender\"], how=\"inner\") \\\n",
    "                      .join(dim_product, on=\"product_line\", how=\"inner\") \\\n",
    "                      .select(\n",
    "                          col(\"invoice_id\"),\n",
    "                          col(\"branch\"),\n",
    "                          col(\"unit_price\"),\n",
    "                          col(\"quantity\"),\n",
    "                          col(\"tax_5_percent\"),\n",
    "                          col(\"total\"),\n",
    "                          col(\"payment\"),\n",
    "                          col(\"cogs\"),\n",
    "                          col(\"gross_margin_percentage\"),\n",
    "                          col(\"gross_income\"),\n",
    "                          col(\"rating\"),\n",
    "                          col(\"year\"),\n",
    "                          col(\"month\"),\n",
    "                          col(\"day\"),\n",
    "                          col(\"hour\"),\n",
    "                          col(\"minute\"),\n",
    "                          col(\"customer_id\"),\n",
    "                          col(\"product_id\")\n",
    "                      )"
   ]
  },
  {
   "cell_type": "code",
   "execution_count": 21,
   "id": "cd7e5800-b14d-44cc-931b-5e266c7f320e",
   "metadata": {},
   "outputs": [
    {
     "name": "stdout",
     "output_type": "stream",
     "text": [
      "+-------------+------+-----------+\n",
      "|customer_type|gender|customer_id|\n",
      "+-------------+------+-----------+\n",
      "|       Normal|  Male|          0|\n",
      "|       Member|  Male|          1|\n",
      "|       Normal|Female|          2|\n",
      "|       Member|Female|          3|\n",
      "+-------------+------+-----------+\n",
      "\n",
      "+--------------------+----------+\n",
      "|        product_line|product_id|\n",
      "+--------------------+----------+\n",
      "|  Home and lifestyle|         0|\n",
      "| Fashion accessories|         1|\n",
      "|   Health and beauty|         2|\n",
      "|Electronic access...|         3|\n",
      "|   Sports and travel|         4|\n",
      "|  Food and beverages|         5|\n",
      "+--------------------+----------+\n",
      "\n",
      "+-----------+------+----------+--------+-------------+--------+-----------+------+-----------------------+------------+------+----+-----+---+----+------+-----------+----------+\n",
      "| invoice_id|branch|unit_price|quantity|tax_5_percent|   total|    payment|  cogs|gross_margin_percentage|gross_income|rating|year|month|day|hour|minute|customer_id|product_id|\n",
      "+-----------+------+----------+--------+-------------+--------+-----------+------+-----------------------+------------+------+----+-----+---+----+------+-----------+----------+\n",
      "|308-81-0538|     A|     73.05|       4|        14.61|  306.81|Credit card| 292.2|            4.761904762|       14.61|   4.9|2019|    2| 25|  17|    16|          2|         1|\n",
      "|834-83-1826|     B|     82.04|       5|        20.51|  430.71|Credit card| 410.2|            4.761904762|       20.51|   7.6|2019|    2| 25|  17|    16|          3|         0|\n",
      "|873-95-4984|     B|      76.9|       7|       26.915| 565.215|       Cash| 538.3|            4.761904762|      26.915|   7.7|2019|    2| 15|  20|    21|          3|         2|\n",
      "|400-80-4065|     C|     68.55|       4|        13.71|  287.91|Credit card| 274.2|            4.761904762|       13.71|   9.2|2019|    2| 15|  20|    21|          1|         2|\n",
      "|188-55-0967|     B|     66.47|      10|       33.235| 697.935|Credit card| 664.7|            4.761904762|      33.235|   5.0|2019|    1| 15|  15|     1|          1|         2|\n",
      "|660-29-7083|     C|     55.87|      10|       27.935| 586.635|       Cash| 558.7|            4.761904762|      27.935|   5.8|2019|    1| 15|  15|     1|          0|         3|\n",
      "|346-84-3103|     B|     13.22|       5|        3.305|  69.405|       Cash|  66.1|            4.761904762|       3.305|   4.3|2019|    3|  2|  19|    26|          3|         3|\n",
      "|825-94-5922|     B|     25.31|       2|        2.531|  53.151|    Ewallet| 50.62|            4.761904762|       2.531|   7.2|2019|    3|  2|  19|    26|          0|         4|\n",
      "|560-30-5617|     B|     24.77|       5|       6.1925|130.0425|       Cash|123.85|            4.761904762|      6.1925|   8.5|2019|    3| 24|  18|    27|          2|         4|\n",
      "|538-22-0304|     C|     64.95|      10|       32.475| 681.975|       Cash| 649.5|            4.761904762|      32.475|   5.2|2019|    3| 24|  18|    27|          0|         3|\n",
      "|672-51-8681|     C|     66.65|       9|      29.9925|629.8425|Credit card|599.85|            4.761904762|     29.9925|   9.7|2019|    1|  4|  18|    19|          3|         3|\n",
      "|732-94-0499|     C|     41.65|      10|       20.825| 437.325|Credit card| 416.5|            4.761904762|      20.825|   5.4|2019|    1| 13|  17|     4|          2|         3|\n",
      "|810-60-6344|     C|     40.86|       8|       16.344| 343.224|Credit card|326.88|            4.761904762|      16.344|   6.5|2019|    2|  7|  14|    38|          2|         3|\n",
      "|633-09-3463|     C|     47.65|       3|       7.1475|150.0975|Credit card|142.95|            4.761904762|      7.1475|   9.5|2019|    3| 28|  12|    58|          2|         3|\n",
      "|377-79-7592|     C|     44.84|       9|       20.178| 423.738|Credit card|403.56|            4.761904762|      20.178|   7.5|2019|    1| 14|  14|     0|          3|         3|\n",
      "|250-81-7186|     C|     99.69|       1|       4.9845|104.6745|Credit card| 99.69|            4.761904762|      4.9845|   8.0|2019|    2| 27|  10|    23|          2|         3|\n",
      "|182-69-8360|     B|     23.65|       4|         4.73|   99.33|Credit card|  94.6|            4.761904762|        4.73|   4.0|2019|    1| 30|  13|    32|          2|         3|\n",
      "|817-69-8206|     B|     99.73|       9|      44.8785|942.4485|Credit card|897.57|            4.761904762|     44.8785|   6.5|2019|    3|  2|  19|    42|          2|         3|\n",
      "|431-66-2305|     B|     88.25|       9|      39.7125|833.9625|Credit card|794.25|            4.761904762|     39.7125|   7.6|2019|    2| 15|  20|    51|          2|         3|\n",
      "|156-20-0370|     B|     25.45|       1|       1.2725| 26.7225|Credit card| 25.45|            4.761904762|      1.2725|   5.1|2019|    3| 10|  18|    10|          2|         3|\n",
      "+-----------+------+----------+--------+-------------+--------+-----------+------+-----------------------+------------+------+----+-----+---+----+------+-----------+----------+\n",
      "only showing top 20 rows\n",
      "\n"
     ]
    }
   ],
   "source": [
    "dim_customer.show()\n",
    "dim_product.show()\n",
    "fact_sales.show()"
   ]
  },
  {
   "cell_type": "code",
   "execution_count": 22,
   "id": "95bb5997-2478-4c6b-ac81-f0b1eaed3de3",
   "metadata": {},
   "outputs": [],
   "source": [
    "dim_customer.write.parquet(\"spark-warehouse/dim_customer\")\n",
    "dim_product.write.parquet(\"spark-warehouse/dim_product\")\n",
    "fact_sales.write.parquet(\"spark-warehouse/fact_sales\")"
   ]
  },
  {
   "cell_type": "code",
   "execution_count": null,
   "id": "41c527c4-52fd-46ae-9146-6cd941f728e6",
   "metadata": {},
   "outputs": [],
   "source": []
  }
 ],
 "metadata": {
  "kernelspec": {
   "display_name": "Python 3 (ipykernel)",
   "language": "python",
   "name": "python3"
  },
  "language_info": {
   "codemirror_mode": {
    "name": "ipython",
    "version": 3
   },
   "file_extension": ".py",
   "mimetype": "text/x-python",
   "name": "python",
   "nbconvert_exporter": "python",
   "pygments_lexer": "ipython3",
   "version": "3.11.6"
  }
 },
 "nbformat": 4,
 "nbformat_minor": 5
}
