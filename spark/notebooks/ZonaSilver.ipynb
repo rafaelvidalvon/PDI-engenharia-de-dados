{
 "cells": [
  {
   "cell_type": "code",
   "execution_count": 10,
   "id": "adcbf9b0-ca2b-4ad1-8399-ea1e5aa3f442",
   "metadata": {},
   "outputs": [],
   "source": [
    "from pyspark.sql import SparkSession\n",
    "from pyspark.sql.functions import col, to_date, to_timestamp, year, month, day, hour, minute\n",
    "from pyspark.sql.types import StringType, DoubleType, IntegerType"
   ]
  },
  {
   "cell_type": "code",
   "execution_count": 11,
   "id": "9b35a6e2-ef5d-4b90-adae-6cd7a006ba5e",
   "metadata": {},
   "outputs": [],
   "source": [
    "spark = SparkSession.builder.master(\"local[*]\") \\\n",
    "    .config(\"spark.executor.instances\", \"5\") \\\n",
    "    .config(\"spark.sql.legacy.timeParserPolicy\", \"LEGACY\").getOrCreate()"
   ]
  },
  {
   "cell_type": "code",
   "execution_count": 12,
   "id": "c6891130-0ba9-4aa5-9376-03096c935f8b",
   "metadata": {},
   "outputs": [],
   "source": [
    "df_bronze = spark.read.parquet(\"spark-warehouse/bronze/supermarket_sales\")\n"
   ]
  },
  {
   "cell_type": "code",
   "execution_count": 13,
   "id": "636c740d-6f13-4b46-9ba6-9504dd299540",
   "metadata": {},
   "outputs": [
    {
     "name": "stdout",
     "output_type": "stream",
     "text": [
      "root\n",
      " |-- invoice_id: string (nullable = true)\n",
      " |-- branch: string (nullable = true)\n",
      " |-- city: string (nullable = true)\n",
      " |-- customer_type: string (nullable = true)\n",
      " |-- gender: string (nullable = true)\n",
      " |-- product_line: string (nullable = true)\n",
      " |-- unit_price: double (nullable = true)\n",
      " |-- quantity: integer (nullable = true)\n",
      " |-- tax_5_percent: double (nullable = true)\n",
      " |-- total: double (nullable = true)\n",
      " |-- payment: string (nullable = true)\n",
      " |-- cogs: double (nullable = true)\n",
      " |-- gross_margin_percentage: double (nullable = true)\n",
      " |-- gross_income: double (nullable = true)\n",
      " |-- rating: double (nullable = true)\n",
      " |-- year: integer (nullable = true)\n",
      " |-- month: integer (nullable = true)\n",
      " |-- day: integer (nullable = true)\n",
      " |-- hour: integer (nullable = true)\n",
      " |-- minute: integer (nullable = true)\n",
      "\n",
      "+-----------+------+---------+-------------+------+-------------------+----------+--------+-------------+-------+-----------+-----+-----------------------+------------+------+----+-----+---+----+------+\n",
      "| invoice_id|branch|     city|customer_type|gender|       product_line|unit_price|quantity|tax_5_percent|  total|    payment| cogs|gross_margin_percentage|gross_income|rating|year|month|day|hour|minute|\n",
      "+-----------+------+---------+-------------+------+-------------------+----------+--------+-------------+-------+-----------+-----+-----------------------+------------+------+----+-----+---+----+------+\n",
      "|308-81-0538|     A|   Yangon|       Normal|Female|Fashion accessories|     73.05|       4|        14.61| 306.81|Credit card|292.2|            4.761904762|       14.61|   4.9|2019|    2| 25|  17|    16|\n",
      "|834-83-1826|     B| Mandalay|       Member|Female| Home and lifestyle|     82.04|       5|        20.51| 430.71|Credit card|410.2|            4.761904762|       20.51|   7.6|2019|    2| 25|  17|    16|\n",
      "|873-95-4984|     B| Mandalay|       Member|Female|  Health and beauty|      76.9|       7|       26.915|565.215|       Cash|538.3|            4.761904762|      26.915|   7.7|2019|    2| 15|  20|    21|\n",
      "|400-80-4065|     C|Naypyitaw|       Member|  Male|  Health and beauty|     68.55|       4|        13.71| 287.91|Credit card|274.2|            4.761904762|       13.71|   9.2|2019|    2| 15|  20|    21|\n",
      "|188-55-0967|     B| Mandalay|       Member|  Male|  Health and beauty|     66.47|      10|       33.235|697.935|Credit card|664.7|            4.761904762|      33.235|   5.0|2019|    1| 15|  15|     1|\n",
      "+-----------+------+---------+-------------+------+-------------------+----------+--------+-------------+-------+-----------+-----+-----------------------+------------+------+----+-----+---+----+------+\n",
      "only showing top 5 rows\n",
      "\n"
     ]
    }
   ],
   "source": [
    "df_bronze.printSchema()\n",
    "df_bronze.show(5)"
   ]
  },
  {
   "cell_type": "code",
   "execution_count": 7,
   "id": "122d2d6d-1180-4608-a23a-7b279d7e89ba",
   "metadata": {},
   "outputs": [],
   "source": [
    "df_customers = df_bronze.select(\n",
    "    col(\"invoice_id\"),\n",
    "    col(\"customer_type\"),\n",
    "    col(\"gender\"),\n",
    "    col(\"city\")\n",
    ").distinct()\n",
    "\n",
    "df_customers = df_customers.withColumnRenamed(\"invoice_id\", \"customer_id\")"
   ]
  },
  {
   "cell_type": "code",
   "execution_count": 9,
   "id": "00ed4a49-c12a-420c-92c5-76c49cfb7e93",
   "metadata": {},
   "outputs": [
    {
     "name": "stdout",
     "output_type": "stream",
     "text": [
      "root\n",
      " |-- customer_id: string (nullable = true)\n",
      " |-- customer_type: string (nullable = true)\n",
      " |-- gender: string (nullable = true)\n",
      " |-- city: string (nullable = true)\n",
      "\n",
      "+-----------+-------------+------+---------+\n",
      "|customer_id|customer_type|gender|     city|\n",
      "+-----------+-------------+------+---------+\n",
      "|115-38-7388|       Member|Female|Naypyitaw|\n",
      "|189-08-9157|       Normal|Female|Naypyitaw|\n",
      "|339-18-7061|       Member|Female|Naypyitaw|\n",
      "|873-95-4984|       Member|Female| Mandalay|\n",
      "|672-51-8681|       Member|Female|Naypyitaw|\n",
      "+-----------+-------------+------+---------+\n",
      "only showing top 5 rows\n",
      "\n"
     ]
    }
   ],
   "source": [
    "df_customers.printSchema()\n",
    "df_customers.show(5)"
   ]
  }
 ],
 "metadata": {
  "kernelspec": {
   "display_name": "Python 3 (ipykernel)",
   "language": "python",
   "name": "python3"
  },
  "language_info": {
   "codemirror_mode": {
    "name": "ipython",
    "version": 3
   },
   "file_extension": ".py",
   "mimetype": "text/x-python",
   "name": "python",
   "nbconvert_exporter": "python",
   "pygments_lexer": "ipython3",
   "version": "3.11.6"
  }
 },
 "nbformat": 4,
 "nbformat_minor": 5
}
